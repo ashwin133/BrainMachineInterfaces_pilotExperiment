{
 "cells": [
  {
   "cell_type": "markdown",
   "metadata": {},
   "source": [
    "## This notebook is for decoder based analysis of the game data for preparing the pilot experiment"
   ]
  },
  {
   "cell_type": "code",
   "execution_count": 1,
   "metadata": {},
   "outputs": [],
   "source": [
    "# import libraries\n",
    "import sys\n",
    "sys.path.insert(0,'/Users/ashwin/Documents/Y4 project Brain Human Interfaces/General 4th year Github repo/PilotExperiment/BrainMachineInterfaces_pilotExperiment')\n",
    "from DataAnalysis.dataAnalysisClasses import *"
   ]
  },
  {
   "cell_type": "code",
   "execution_count": 2,
   "metadata": {},
   "outputs": [
    {
     "name": "stdout",
     "output_type": "stream",
     "text": [
      "pygame 2.5.2 (SDL 2.28.3, Python 3.11.5)\n",
      "Hello from the pygame community. https://www.pygame.org/contribute.html\n",
      "Program successfully executed\n"
     ]
    }
   ],
   "source": [
    "# Retrieve training and test data\n",
    "\n",
    "dataProcessor = ProcessData('../GameSaves/Ashwin_09_01__17_05_10mins.pkl','../GameSaves/Ashwin_09_01__17_20_90s.pkl')\n",
    "dataProcessor.retrieveTrainingFeatureData()\n",
    "dataProcessor.retrieveTestFeatureData()\n",
    "print(\"Program successfully executed\")"
   ]
  },
  {
   "cell_type": "code",
   "execution_count": 3,
   "metadata": {},
   "outputs": [],
   "source": [
    "# Normalise training and test data\n",
    "\n",
    "dataProcessor.normaliseDatasets()\n",
    "\n",
    "\n"
   ]
  }
 ],
 "metadata": {
  "kernelspec": {
   "display_name": "Python 3",
   "language": "python",
   "name": "python3"
  },
  "language_info": {
   "codemirror_mode": {
    "name": "ipython",
    "version": 3
   },
   "file_extension": ".py",
   "mimetype": "text/x-python",
   "name": "python",
   "nbconvert_exporter": "python",
   "pygments_lexer": "ipython3",
   "version": "3.11.5"
  }
 },
 "nbformat": 4,
 "nbformat_minor": 2
}
